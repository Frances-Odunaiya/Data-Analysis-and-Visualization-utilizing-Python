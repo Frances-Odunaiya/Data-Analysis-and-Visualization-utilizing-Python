{
 "cells": [
  {
   "cell_type": "code",
   "execution_count": 1,
   "id": "8234adcc",
   "metadata": {},
   "outputs": [],
   "source": [
    "import pandas as pd \n",
    "import numpy as np\n",
    "import matplotlib.pyplot as plt"
   ]
  },
  {
   "cell_type": "code",
   "execution_count": 5,
   "id": "224bb57a",
   "metadata": {},
   "outputs": [],
   "source": [
    "bike_data = pd.read_csv(r'C:\\Users\\Jenrola\\Desktop\\CAREER\\DATA ANALYSIS\\Google Data Analyst\\CaseStudies\\cyclicist_bike_share\\cyclicist_bike_share_csv\\202004-divvy-tripdata.csv')"
   ]
  },
  {
   "cell_type": "code",
   "execution_count": 6,
   "id": "df665ecb",
   "metadata": {},
   "outputs": [
    {
     "data": {
      "text/html": [
       "<div>\n",
       "<style scoped>\n",
       "    .dataframe tbody tr th:only-of-type {\n",
       "        vertical-align: middle;\n",
       "    }\n",
       "\n",
       "    .dataframe tbody tr th {\n",
       "        vertical-align: top;\n",
       "    }\n",
       "\n",
       "    .dataframe thead th {\n",
       "        text-align: right;\n",
       "    }\n",
       "</style>\n",
       "<table border=\"1\" class=\"dataframe\">\n",
       "  <thead>\n",
       "    <tr style=\"text-align: right;\">\n",
       "      <th></th>\n",
       "      <th>ride_id</th>\n",
       "      <th>rideable_type</th>\n",
       "      <th>started_at</th>\n",
       "      <th>ended_at</th>\n",
       "      <th>start_station_name</th>\n",
       "      <th>start_station_id</th>\n",
       "      <th>end_station_name</th>\n",
       "      <th>end_station_id</th>\n",
       "      <th>start_lat</th>\n",
       "      <th>start_lng</th>\n",
       "      <th>end_lat</th>\n",
       "      <th>end_lng</th>\n",
       "      <th>member_casual</th>\n",
       "    </tr>\n",
       "  </thead>\n",
       "  <tbody>\n",
       "    <tr>\n",
       "      <th>0</th>\n",
       "      <td>A847FADBBC638E45</td>\n",
       "      <td>docked_bike</td>\n",
       "      <td>26/04/2020 17:45</td>\n",
       "      <td>26/04/2020 18:12</td>\n",
       "      <td>Eckhart Park</td>\n",
       "      <td>86</td>\n",
       "      <td>Lincoln Ave &amp; Diversey Pkwy</td>\n",
       "      <td>152.0</td>\n",
       "      <td>41.8964</td>\n",
       "      <td>-87.6610</td>\n",
       "      <td>41.9322</td>\n",
       "      <td>-87.6586</td>\n",
       "      <td>member</td>\n",
       "    </tr>\n",
       "    <tr>\n",
       "      <th>1</th>\n",
       "      <td>5405B80E996FF60D</td>\n",
       "      <td>docked_bike</td>\n",
       "      <td>17/04/2020 17:08</td>\n",
       "      <td>17/04/2020 17:17</td>\n",
       "      <td>Drake Ave &amp; Fullerton Ave</td>\n",
       "      <td>503</td>\n",
       "      <td>Kosciuszko Park</td>\n",
       "      <td>499.0</td>\n",
       "      <td>41.9244</td>\n",
       "      <td>-87.7154</td>\n",
       "      <td>41.9306</td>\n",
       "      <td>-87.7238</td>\n",
       "      <td>member</td>\n",
       "    </tr>\n",
       "    <tr>\n",
       "      <th>2</th>\n",
       "      <td>5DD24A79A4E006F4</td>\n",
       "      <td>docked_bike</td>\n",
       "      <td>01/04/2020 17:54</td>\n",
       "      <td>01/04/2020 18:08</td>\n",
       "      <td>McClurg Ct &amp; Erie St</td>\n",
       "      <td>142</td>\n",
       "      <td>Indiana Ave &amp; Roosevelt Rd</td>\n",
       "      <td>255.0</td>\n",
       "      <td>41.8945</td>\n",
       "      <td>-87.6179</td>\n",
       "      <td>41.8679</td>\n",
       "      <td>-87.6230</td>\n",
       "      <td>member</td>\n",
       "    </tr>\n",
       "    <tr>\n",
       "      <th>3</th>\n",
       "      <td>2A59BBDF5CDBA725</td>\n",
       "      <td>docked_bike</td>\n",
       "      <td>07/04/2020 12:50</td>\n",
       "      <td>07/04/2020 13:02</td>\n",
       "      <td>California Ave &amp; Division St</td>\n",
       "      <td>216</td>\n",
       "      <td>Wood St &amp; Augusta Blvd</td>\n",
       "      <td>657.0</td>\n",
       "      <td>41.9030</td>\n",
       "      <td>-87.6975</td>\n",
       "      <td>41.8992</td>\n",
       "      <td>-87.6722</td>\n",
       "      <td>member</td>\n",
       "    </tr>\n",
       "    <tr>\n",
       "      <th>4</th>\n",
       "      <td>27AD306C119C6158</td>\n",
       "      <td>docked_bike</td>\n",
       "      <td>18/04/2020 10:22</td>\n",
       "      <td>18/04/2020 11:15</td>\n",
       "      <td>Rush St &amp; Hubbard St</td>\n",
       "      <td>125</td>\n",
       "      <td>Sheridan Rd &amp; Lawrence Ave</td>\n",
       "      <td>323.0</td>\n",
       "      <td>41.8902</td>\n",
       "      <td>-87.6262</td>\n",
       "      <td>41.9695</td>\n",
       "      <td>-87.6547</td>\n",
       "      <td>casual</td>\n",
       "    </tr>\n",
       "    <tr>\n",
       "      <th>...</th>\n",
       "      <td>...</td>\n",
       "      <td>...</td>\n",
       "      <td>...</td>\n",
       "      <td>...</td>\n",
       "      <td>...</td>\n",
       "      <td>...</td>\n",
       "      <td>...</td>\n",
       "      <td>...</td>\n",
       "      <td>...</td>\n",
       "      <td>...</td>\n",
       "      <td>...</td>\n",
       "      <td>...</td>\n",
       "      <td>...</td>\n",
       "    </tr>\n",
       "    <tr>\n",
       "      <th>84771</th>\n",
       "      <td>200E9CDFC5685AA0</td>\n",
       "      <td>docked_bike</td>\n",
       "      <td>16/04/2020 16:10</td>\n",
       "      <td>16/04/2020 16:23</td>\n",
       "      <td>Dearborn Pkwy &amp; Delaware Pl</td>\n",
       "      <td>140</td>\n",
       "      <td>Dearborn Pkwy &amp; Delaware Pl</td>\n",
       "      <td>140.0</td>\n",
       "      <td>41.8990</td>\n",
       "      <td>-87.6299</td>\n",
       "      <td>41.8990</td>\n",
       "      <td>-87.6299</td>\n",
       "      <td>member</td>\n",
       "    </tr>\n",
       "    <tr>\n",
       "      <th>84772</th>\n",
       "      <td>F58A8F2ABCB5D95B</td>\n",
       "      <td>docked_bike</td>\n",
       "      <td>30/04/2020 17:56</td>\n",
       "      <td>30/04/2020 18:15</td>\n",
       "      <td>Kimbark Ave &amp; 53rd St</td>\n",
       "      <td>322</td>\n",
       "      <td>Cottage Grove Ave &amp; 51st St</td>\n",
       "      <td>351.0</td>\n",
       "      <td>41.7996</td>\n",
       "      <td>-87.5947</td>\n",
       "      <td>41.8030</td>\n",
       "      <td>-87.6066</td>\n",
       "      <td>casual</td>\n",
       "    </tr>\n",
       "    <tr>\n",
       "      <th>84773</th>\n",
       "      <td>A3754693A80E4913</td>\n",
       "      <td>docked_bike</td>\n",
       "      <td>24/04/2020 19:57</td>\n",
       "      <td>24/04/2020 21:50</td>\n",
       "      <td>Sedgwick St &amp; Schiller St</td>\n",
       "      <td>236</td>\n",
       "      <td>Wells St &amp; Elm St</td>\n",
       "      <td>182.0</td>\n",
       "      <td>41.9076</td>\n",
       "      <td>-87.6386</td>\n",
       "      <td>41.9032</td>\n",
       "      <td>-87.6343</td>\n",
       "      <td>casual</td>\n",
       "    </tr>\n",
       "    <tr>\n",
       "      <th>84774</th>\n",
       "      <td>D610CABB67F7B744</td>\n",
       "      <td>docked_bike</td>\n",
       "      <td>02/04/2020 17:59</td>\n",
       "      <td>02/04/2020 18:42</td>\n",
       "      <td>Damen Ave &amp; Charleston St</td>\n",
       "      <td>310</td>\n",
       "      <td>Damen Ave &amp; Charleston St</td>\n",
       "      <td>310.0</td>\n",
       "      <td>41.9201</td>\n",
       "      <td>-87.6779</td>\n",
       "      <td>41.9201</td>\n",
       "      <td>-87.6779</td>\n",
       "      <td>casual</td>\n",
       "    </tr>\n",
       "    <tr>\n",
       "      <th>84775</th>\n",
       "      <td>79634521ABE4CF69</td>\n",
       "      <td>docked_bike</td>\n",
       "      <td>04/04/2020 01:31</td>\n",
       "      <td>04/04/2020 01:37</td>\n",
       "      <td>Clybourn Ave &amp; Division St</td>\n",
       "      <td>138</td>\n",
       "      <td>Clybourn Ave &amp; Division St</td>\n",
       "      <td>138.0</td>\n",
       "      <td>41.9046</td>\n",
       "      <td>-87.6406</td>\n",
       "      <td>41.9046</td>\n",
       "      <td>-87.6406</td>\n",
       "      <td>casual</td>\n",
       "    </tr>\n",
       "  </tbody>\n",
       "</table>\n",
       "<p>84776 rows × 13 columns</p>\n",
       "</div>"
      ],
      "text/plain": [
       "                ride_id rideable_type        started_at          ended_at  \\\n",
       "0      A847FADBBC638E45   docked_bike  26/04/2020 17:45  26/04/2020 18:12   \n",
       "1      5405B80E996FF60D   docked_bike  17/04/2020 17:08  17/04/2020 17:17   \n",
       "2      5DD24A79A4E006F4   docked_bike  01/04/2020 17:54  01/04/2020 18:08   \n",
       "3      2A59BBDF5CDBA725   docked_bike  07/04/2020 12:50  07/04/2020 13:02   \n",
       "4      27AD306C119C6158   docked_bike  18/04/2020 10:22  18/04/2020 11:15   \n",
       "...                 ...           ...               ...               ...   \n",
       "84771  200E9CDFC5685AA0   docked_bike  16/04/2020 16:10  16/04/2020 16:23   \n",
       "84772  F58A8F2ABCB5D95B   docked_bike  30/04/2020 17:56  30/04/2020 18:15   \n",
       "84773  A3754693A80E4913   docked_bike  24/04/2020 19:57  24/04/2020 21:50   \n",
       "84774  D610CABB67F7B744   docked_bike  02/04/2020 17:59  02/04/2020 18:42   \n",
       "84775  79634521ABE4CF69   docked_bike  04/04/2020 01:31  04/04/2020 01:37   \n",
       "\n",
       "                 start_station_name  start_station_id  \\\n",
       "0                      Eckhart Park                86   \n",
       "1         Drake Ave & Fullerton Ave               503   \n",
       "2              McClurg Ct & Erie St               142   \n",
       "3      California Ave & Division St               216   \n",
       "4              Rush St & Hubbard St               125   \n",
       "...                             ...               ...   \n",
       "84771   Dearborn Pkwy & Delaware Pl               140   \n",
       "84772         Kimbark Ave & 53rd St               322   \n",
       "84773     Sedgwick St & Schiller St               236   \n",
       "84774     Damen Ave & Charleston St               310   \n",
       "84775    Clybourn Ave & Division St               138   \n",
       "\n",
       "                  end_station_name  end_station_id  start_lat  start_lng  \\\n",
       "0      Lincoln Ave & Diversey Pkwy           152.0    41.8964   -87.6610   \n",
       "1                  Kosciuszko Park           499.0    41.9244   -87.7154   \n",
       "2       Indiana Ave & Roosevelt Rd           255.0    41.8945   -87.6179   \n",
       "3           Wood St & Augusta Blvd           657.0    41.9030   -87.6975   \n",
       "4       Sheridan Rd & Lawrence Ave           323.0    41.8902   -87.6262   \n",
       "...                            ...             ...        ...        ...   \n",
       "84771  Dearborn Pkwy & Delaware Pl           140.0    41.8990   -87.6299   \n",
       "84772  Cottage Grove Ave & 51st St           351.0    41.7996   -87.5947   \n",
       "84773            Wells St & Elm St           182.0    41.9076   -87.6386   \n",
       "84774    Damen Ave & Charleston St           310.0    41.9201   -87.6779   \n",
       "84775   Clybourn Ave & Division St           138.0    41.9046   -87.6406   \n",
       "\n",
       "       end_lat  end_lng member_casual  \n",
       "0      41.9322 -87.6586        member  \n",
       "1      41.9306 -87.7238        member  \n",
       "2      41.8679 -87.6230        member  \n",
       "3      41.8992 -87.6722        member  \n",
       "4      41.9695 -87.6547        casual  \n",
       "...        ...      ...           ...  \n",
       "84771  41.8990 -87.6299        member  \n",
       "84772  41.8030 -87.6066        casual  \n",
       "84773  41.9032 -87.6343        casual  \n",
       "84774  41.9201 -87.6779        casual  \n",
       "84775  41.9046 -87.6406        casual  \n",
       "\n",
       "[84776 rows x 13 columns]"
      ]
     },
     "metadata": {},
     "output_type": "display_data"
    }
   ],
   "source": [
    "display(bike_data)"
   ]
  },
  {
   "cell_type": "code",
   "execution_count": 7,
   "id": "dd05d9ce",
   "metadata": {},
   "outputs": [
    {
     "data": {
      "text/html": [
       "<div>\n",
       "<style scoped>\n",
       "    .dataframe tbody tr th:only-of-type {\n",
       "        vertical-align: middle;\n",
       "    }\n",
       "\n",
       "    .dataframe tbody tr th {\n",
       "        vertical-align: top;\n",
       "    }\n",
       "\n",
       "    .dataframe thead th {\n",
       "        text-align: right;\n",
       "    }\n",
       "</style>\n",
       "<table border=\"1\" class=\"dataframe\">\n",
       "  <thead>\n",
       "    <tr style=\"text-align: right;\">\n",
       "      <th></th>\n",
       "      <th>ride_id</th>\n",
       "      <th>rideable_type</th>\n",
       "      <th>started_at</th>\n",
       "      <th>ended_at</th>\n",
       "      <th>start_station_name</th>\n",
       "      <th>start_station_id</th>\n",
       "      <th>end_station_name</th>\n",
       "      <th>end_station_id</th>\n",
       "      <th>start_lat</th>\n",
       "      <th>start_lng</th>\n",
       "      <th>end_lat</th>\n",
       "      <th>end_lng</th>\n",
       "      <th>member_casual</th>\n",
       "    </tr>\n",
       "  </thead>\n",
       "  <tbody>\n",
       "    <tr>\n",
       "      <th>0</th>\n",
       "      <td>A847FADBBC638E45</td>\n",
       "      <td>docked_bike</td>\n",
       "      <td>26/04/2020 17:45</td>\n",
       "      <td>26/04/2020 18:12</td>\n",
       "      <td>Eckhart Park</td>\n",
       "      <td>86</td>\n",
       "      <td>Lincoln Ave &amp; Diversey Pkwy</td>\n",
       "      <td>152.0</td>\n",
       "      <td>41.8964</td>\n",
       "      <td>-87.6610</td>\n",
       "      <td>41.9322</td>\n",
       "      <td>-87.6586</td>\n",
       "      <td>member</td>\n",
       "    </tr>\n",
       "    <tr>\n",
       "      <th>1</th>\n",
       "      <td>5405B80E996FF60D</td>\n",
       "      <td>docked_bike</td>\n",
       "      <td>17/04/2020 17:08</td>\n",
       "      <td>17/04/2020 17:17</td>\n",
       "      <td>Drake Ave &amp; Fullerton Ave</td>\n",
       "      <td>503</td>\n",
       "      <td>Kosciuszko Park</td>\n",
       "      <td>499.0</td>\n",
       "      <td>41.9244</td>\n",
       "      <td>-87.7154</td>\n",
       "      <td>41.9306</td>\n",
       "      <td>-87.7238</td>\n",
       "      <td>member</td>\n",
       "    </tr>\n",
       "    <tr>\n",
       "      <th>2</th>\n",
       "      <td>5DD24A79A4E006F4</td>\n",
       "      <td>docked_bike</td>\n",
       "      <td>01/04/2020 17:54</td>\n",
       "      <td>01/04/2020 18:08</td>\n",
       "      <td>McClurg Ct &amp; Erie St</td>\n",
       "      <td>142</td>\n",
       "      <td>Indiana Ave &amp; Roosevelt Rd</td>\n",
       "      <td>255.0</td>\n",
       "      <td>41.8945</td>\n",
       "      <td>-87.6179</td>\n",
       "      <td>41.8679</td>\n",
       "      <td>-87.6230</td>\n",
       "      <td>member</td>\n",
       "    </tr>\n",
       "    <tr>\n",
       "      <th>3</th>\n",
       "      <td>2A59BBDF5CDBA725</td>\n",
       "      <td>docked_bike</td>\n",
       "      <td>07/04/2020 12:50</td>\n",
       "      <td>07/04/2020 13:02</td>\n",
       "      <td>California Ave &amp; Division St</td>\n",
       "      <td>216</td>\n",
       "      <td>Wood St &amp; Augusta Blvd</td>\n",
       "      <td>657.0</td>\n",
       "      <td>41.9030</td>\n",
       "      <td>-87.6975</td>\n",
       "      <td>41.8992</td>\n",
       "      <td>-87.6722</td>\n",
       "      <td>member</td>\n",
       "    </tr>\n",
       "    <tr>\n",
       "      <th>4</th>\n",
       "      <td>27AD306C119C6158</td>\n",
       "      <td>docked_bike</td>\n",
       "      <td>18/04/2020 10:22</td>\n",
       "      <td>18/04/2020 11:15</td>\n",
       "      <td>Rush St &amp; Hubbard St</td>\n",
       "      <td>125</td>\n",
       "      <td>Sheridan Rd &amp; Lawrence Ave</td>\n",
       "      <td>323.0</td>\n",
       "      <td>41.8902</td>\n",
       "      <td>-87.6262</td>\n",
       "      <td>41.9695</td>\n",
       "      <td>-87.6547</td>\n",
       "      <td>casual</td>\n",
       "    </tr>\n",
       "  </tbody>\n",
       "</table>\n",
       "</div>"
      ],
      "text/plain": [
       "            ride_id rideable_type        started_at          ended_at  \\\n",
       "0  A847FADBBC638E45   docked_bike  26/04/2020 17:45  26/04/2020 18:12   \n",
       "1  5405B80E996FF60D   docked_bike  17/04/2020 17:08  17/04/2020 17:17   \n",
       "2  5DD24A79A4E006F4   docked_bike  01/04/2020 17:54  01/04/2020 18:08   \n",
       "3  2A59BBDF5CDBA725   docked_bike  07/04/2020 12:50  07/04/2020 13:02   \n",
       "4  27AD306C119C6158   docked_bike  18/04/2020 10:22  18/04/2020 11:15   \n",
       "\n",
       "             start_station_name  start_station_id  \\\n",
       "0                  Eckhart Park                86   \n",
       "1     Drake Ave & Fullerton Ave               503   \n",
       "2          McClurg Ct & Erie St               142   \n",
       "3  California Ave & Division St               216   \n",
       "4          Rush St & Hubbard St               125   \n",
       "\n",
       "              end_station_name  end_station_id  start_lat  start_lng  end_lat  \\\n",
       "0  Lincoln Ave & Diversey Pkwy           152.0    41.8964   -87.6610  41.9322   \n",
       "1              Kosciuszko Park           499.0    41.9244   -87.7154  41.9306   \n",
       "2   Indiana Ave & Roosevelt Rd           255.0    41.8945   -87.6179  41.8679   \n",
       "3       Wood St & Augusta Blvd           657.0    41.9030   -87.6975  41.8992   \n",
       "4   Sheridan Rd & Lawrence Ave           323.0    41.8902   -87.6262  41.9695   \n",
       "\n",
       "   end_lng member_casual  \n",
       "0 -87.6586        member  \n",
       "1 -87.7238        member  \n",
       "2 -87.6230        member  \n",
       "3 -87.6722        member  \n",
       "4 -87.6547        casual  "
      ]
     },
     "execution_count": 7,
     "metadata": {},
     "output_type": "execute_result"
    }
   ],
   "source": [
    "bike_data.head()"
   ]
  },
  {
   "cell_type": "code",
   "execution_count": 8,
   "id": "b35d369d",
   "metadata": {},
   "outputs": [
    {
     "data": {
      "text/html": [
       "<div>\n",
       "<style scoped>\n",
       "    .dataframe tbody tr th:only-of-type {\n",
       "        vertical-align: middle;\n",
       "    }\n",
       "\n",
       "    .dataframe tbody tr th {\n",
       "        vertical-align: top;\n",
       "    }\n",
       "\n",
       "    .dataframe thead th {\n",
       "        text-align: right;\n",
       "    }\n",
       "</style>\n",
       "<table border=\"1\" class=\"dataframe\">\n",
       "  <thead>\n",
       "    <tr style=\"text-align: right;\">\n",
       "      <th></th>\n",
       "      <th>ride_id</th>\n",
       "      <th>rideable_type</th>\n",
       "      <th>started_at</th>\n",
       "      <th>ended_at</th>\n",
       "      <th>start_station_name</th>\n",
       "      <th>start_station_id</th>\n",
       "      <th>end_station_name</th>\n",
       "      <th>end_station_id</th>\n",
       "      <th>start_lat</th>\n",
       "      <th>start_lng</th>\n",
       "      <th>end_lat</th>\n",
       "      <th>end_lng</th>\n",
       "      <th>member_casual</th>\n",
       "    </tr>\n",
       "  </thead>\n",
       "  <tbody>\n",
       "    <tr>\n",
       "      <th>84771</th>\n",
       "      <td>200E9CDFC5685AA0</td>\n",
       "      <td>docked_bike</td>\n",
       "      <td>16/04/2020 16:10</td>\n",
       "      <td>16/04/2020 16:23</td>\n",
       "      <td>Dearborn Pkwy &amp; Delaware Pl</td>\n",
       "      <td>140</td>\n",
       "      <td>Dearborn Pkwy &amp; Delaware Pl</td>\n",
       "      <td>140.0</td>\n",
       "      <td>41.8990</td>\n",
       "      <td>-87.6299</td>\n",
       "      <td>41.8990</td>\n",
       "      <td>-87.6299</td>\n",
       "      <td>member</td>\n",
       "    </tr>\n",
       "    <tr>\n",
       "      <th>84772</th>\n",
       "      <td>F58A8F2ABCB5D95B</td>\n",
       "      <td>docked_bike</td>\n",
       "      <td>30/04/2020 17:56</td>\n",
       "      <td>30/04/2020 18:15</td>\n",
       "      <td>Kimbark Ave &amp; 53rd St</td>\n",
       "      <td>322</td>\n",
       "      <td>Cottage Grove Ave &amp; 51st St</td>\n",
       "      <td>351.0</td>\n",
       "      <td>41.7996</td>\n",
       "      <td>-87.5947</td>\n",
       "      <td>41.8030</td>\n",
       "      <td>-87.6066</td>\n",
       "      <td>casual</td>\n",
       "    </tr>\n",
       "    <tr>\n",
       "      <th>84773</th>\n",
       "      <td>A3754693A80E4913</td>\n",
       "      <td>docked_bike</td>\n",
       "      <td>24/04/2020 19:57</td>\n",
       "      <td>24/04/2020 21:50</td>\n",
       "      <td>Sedgwick St &amp; Schiller St</td>\n",
       "      <td>236</td>\n",
       "      <td>Wells St &amp; Elm St</td>\n",
       "      <td>182.0</td>\n",
       "      <td>41.9076</td>\n",
       "      <td>-87.6386</td>\n",
       "      <td>41.9032</td>\n",
       "      <td>-87.6343</td>\n",
       "      <td>casual</td>\n",
       "    </tr>\n",
       "    <tr>\n",
       "      <th>84774</th>\n",
       "      <td>D610CABB67F7B744</td>\n",
       "      <td>docked_bike</td>\n",
       "      <td>02/04/2020 17:59</td>\n",
       "      <td>02/04/2020 18:42</td>\n",
       "      <td>Damen Ave &amp; Charleston St</td>\n",
       "      <td>310</td>\n",
       "      <td>Damen Ave &amp; Charleston St</td>\n",
       "      <td>310.0</td>\n",
       "      <td>41.9201</td>\n",
       "      <td>-87.6779</td>\n",
       "      <td>41.9201</td>\n",
       "      <td>-87.6779</td>\n",
       "      <td>casual</td>\n",
       "    </tr>\n",
       "    <tr>\n",
       "      <th>84775</th>\n",
       "      <td>79634521ABE4CF69</td>\n",
       "      <td>docked_bike</td>\n",
       "      <td>04/04/2020 01:31</td>\n",
       "      <td>04/04/2020 01:37</td>\n",
       "      <td>Clybourn Ave &amp; Division St</td>\n",
       "      <td>138</td>\n",
       "      <td>Clybourn Ave &amp; Division St</td>\n",
       "      <td>138.0</td>\n",
       "      <td>41.9046</td>\n",
       "      <td>-87.6406</td>\n",
       "      <td>41.9046</td>\n",
       "      <td>-87.6406</td>\n",
       "      <td>casual</td>\n",
       "    </tr>\n",
       "  </tbody>\n",
       "</table>\n",
       "</div>"
      ],
      "text/plain": [
       "                ride_id rideable_type        started_at          ended_at  \\\n",
       "84771  200E9CDFC5685AA0   docked_bike  16/04/2020 16:10  16/04/2020 16:23   \n",
       "84772  F58A8F2ABCB5D95B   docked_bike  30/04/2020 17:56  30/04/2020 18:15   \n",
       "84773  A3754693A80E4913   docked_bike  24/04/2020 19:57  24/04/2020 21:50   \n",
       "84774  D610CABB67F7B744   docked_bike  02/04/2020 17:59  02/04/2020 18:42   \n",
       "84775  79634521ABE4CF69   docked_bike  04/04/2020 01:31  04/04/2020 01:37   \n",
       "\n",
       "                start_station_name  start_station_id  \\\n",
       "84771  Dearborn Pkwy & Delaware Pl               140   \n",
       "84772        Kimbark Ave & 53rd St               322   \n",
       "84773    Sedgwick St & Schiller St               236   \n",
       "84774    Damen Ave & Charleston St               310   \n",
       "84775   Clybourn Ave & Division St               138   \n",
       "\n",
       "                  end_station_name  end_station_id  start_lat  start_lng  \\\n",
       "84771  Dearborn Pkwy & Delaware Pl           140.0    41.8990   -87.6299   \n",
       "84772  Cottage Grove Ave & 51st St           351.0    41.7996   -87.5947   \n",
       "84773            Wells St & Elm St           182.0    41.9076   -87.6386   \n",
       "84774    Damen Ave & Charleston St           310.0    41.9201   -87.6779   \n",
       "84775   Clybourn Ave & Division St           138.0    41.9046   -87.6406   \n",
       "\n",
       "       end_lat  end_lng member_casual  \n",
       "84771  41.8990 -87.6299        member  \n",
       "84772  41.8030 -87.6066        casual  \n",
       "84773  41.9032 -87.6343        casual  \n",
       "84774  41.9201 -87.6779        casual  \n",
       "84775  41.9046 -87.6406        casual  "
      ]
     },
     "execution_count": 8,
     "metadata": {},
     "output_type": "execute_result"
    }
   ],
   "source": [
    "bike_data.tail()"
   ]
  },
  {
   "cell_type": "code",
   "execution_count": 10,
   "id": "de80837b",
   "metadata": {},
   "outputs": [
    {
     "data": {
      "text/plain": [
       "(84776, 13)"
      ]
     },
     "execution_count": 10,
     "metadata": {},
     "output_type": "execute_result"
    }
   ],
   "source": [
    "bike_data.shape"
   ]
  },
  {
   "cell_type": "code",
   "execution_count": 11,
   "id": "1ce0af41",
   "metadata": {},
   "outputs": [
    {
     "data": {
      "text/plain": [
       "<bound method DataFrame.info of                 ride_id rideable_type        started_at          ended_at  \\\n",
       "0      A847FADBBC638E45   docked_bike  26/04/2020 17:45  26/04/2020 18:12   \n",
       "1      5405B80E996FF60D   docked_bike  17/04/2020 17:08  17/04/2020 17:17   \n",
       "2      5DD24A79A4E006F4   docked_bike  01/04/2020 17:54  01/04/2020 18:08   \n",
       "3      2A59BBDF5CDBA725   docked_bike  07/04/2020 12:50  07/04/2020 13:02   \n",
       "4      27AD306C119C6158   docked_bike  18/04/2020 10:22  18/04/2020 11:15   \n",
       "...                 ...           ...               ...               ...   \n",
       "84771  200E9CDFC5685AA0   docked_bike  16/04/2020 16:10  16/04/2020 16:23   \n",
       "84772  F58A8F2ABCB5D95B   docked_bike  30/04/2020 17:56  30/04/2020 18:15   \n",
       "84773  A3754693A80E4913   docked_bike  24/04/2020 19:57  24/04/2020 21:50   \n",
       "84774  D610CABB67F7B744   docked_bike  02/04/2020 17:59  02/04/2020 18:42   \n",
       "84775  79634521ABE4CF69   docked_bike  04/04/2020 01:31  04/04/2020 01:37   \n",
       "\n",
       "                 start_station_name  start_station_id  \\\n",
       "0                      Eckhart Park                86   \n",
       "1         Drake Ave & Fullerton Ave               503   \n",
       "2              McClurg Ct & Erie St               142   \n",
       "3      California Ave & Division St               216   \n",
       "4              Rush St & Hubbard St               125   \n",
       "...                             ...               ...   \n",
       "84771   Dearborn Pkwy & Delaware Pl               140   \n",
       "84772         Kimbark Ave & 53rd St               322   \n",
       "84773     Sedgwick St & Schiller St               236   \n",
       "84774     Damen Ave & Charleston St               310   \n",
       "84775    Clybourn Ave & Division St               138   \n",
       "\n",
       "                  end_station_name  end_station_id  start_lat  start_lng  \\\n",
       "0      Lincoln Ave & Diversey Pkwy           152.0    41.8964   -87.6610   \n",
       "1                  Kosciuszko Park           499.0    41.9244   -87.7154   \n",
       "2       Indiana Ave & Roosevelt Rd           255.0    41.8945   -87.6179   \n",
       "3           Wood St & Augusta Blvd           657.0    41.9030   -87.6975   \n",
       "4       Sheridan Rd & Lawrence Ave           323.0    41.8902   -87.6262   \n",
       "...                            ...             ...        ...        ...   \n",
       "84771  Dearborn Pkwy & Delaware Pl           140.0    41.8990   -87.6299   \n",
       "84772  Cottage Grove Ave & 51st St           351.0    41.7996   -87.5947   \n",
       "84773            Wells St & Elm St           182.0    41.9076   -87.6386   \n",
       "84774    Damen Ave & Charleston St           310.0    41.9201   -87.6779   \n",
       "84775   Clybourn Ave & Division St           138.0    41.9046   -87.6406   \n",
       "\n",
       "       end_lat  end_lng member_casual  \n",
       "0      41.9322 -87.6586        member  \n",
       "1      41.9306 -87.7238        member  \n",
       "2      41.8679 -87.6230        member  \n",
       "3      41.8992 -87.6722        member  \n",
       "4      41.9695 -87.6547        casual  \n",
       "...        ...      ...           ...  \n",
       "84771  41.8990 -87.6299        member  \n",
       "84772  41.8030 -87.6066        casual  \n",
       "84773  41.9032 -87.6343        casual  \n",
       "84774  41.9201 -87.6779        casual  \n",
       "84775  41.9046 -87.6406        casual  \n",
       "\n",
       "[84776 rows x 13 columns]>"
      ]
     },
     "execution_count": 11,
     "metadata": {},
     "output_type": "execute_result"
    }
   ],
   "source": [
    "bike_data.info"
   ]
  },
  {
   "cell_type": "code",
   "execution_count": 12,
   "id": "fbe71df3",
   "metadata": {},
   "outputs": [
    {
     "data": {
      "text/plain": [
       "count                84776\n",
       "unique               84776\n",
       "top       A847FADBBC638E45\n",
       "freq                     1\n",
       "Name: ride_id, dtype: object"
      ]
     },
     "execution_count": 12,
     "metadata": {},
     "output_type": "execute_result"
    }
   ],
   "source": [
    "bike_data[\"ride_id\"].describe()"
   ]
  },
  {
   "cell_type": "code",
   "execution_count": 23,
   "id": "9640588f",
   "metadata": {},
   "outputs": [
    {
     "data": {
      "text/plain": [
       "ride_id                       object\n",
       "rideable_type                 object\n",
       "started_at            datetime64[ns]\n",
       "ended_at              datetime64[ns]\n",
       "start_station_name            object\n",
       "start_station_id               int64\n",
       "end_station_name              object\n",
       "end_station_id               float64\n",
       "start_lat                    float64\n",
       "start_lng                    float64\n",
       "end_lat                      float64\n",
       "end_lng                      float64\n",
       "member_casual                 object\n",
       "dtype: object"
      ]
     },
     "metadata": {},
     "output_type": "display_data"
    }
   ],
   "source": [
    "display(bike_data.dtypes)"
   ]
  },
  {
   "cell_type": "code",
   "execution_count": 17,
   "id": "e00a6f68",
   "metadata": {},
   "outputs": [],
   "source": [
    "bike_data['rideable_type'] = bike_data['rideable_type'].astype(str)"
   ]
  },
  {
   "cell_type": "code",
   "execution_count": 20,
   "id": "d5edd98d",
   "metadata": {},
   "outputs": [
    {
     "data": {
      "text/plain": [
       "count           84776\n",
       "unique              1\n",
       "top       docked_bike\n",
       "freq            84776\n",
       "Name: rideable_type, dtype: object"
      ]
     },
     "execution_count": 20,
     "metadata": {},
     "output_type": "execute_result"
    }
   ],
   "source": [
    "bike_data[\"rideable_type\"].describe()"
   ]
  },
  {
   "cell_type": "code",
   "execution_count": 22,
   "id": "bc097dcf",
   "metadata": {},
   "outputs": [],
   "source": [
    "bike_data[\"started_at\"] = pd.to_datetime(bike_data[\"started_at\"], dayfirst=True, errors='ignore')\n",
    "bike_data[\"ended_at\"] = pd.to_datetime(bike_data[\"ended_at\"], dayfirst=True, errors='ignore')\n"
   ]
  },
  {
   "cell_type": "code",
   "execution_count": 33,
   "id": "7070d5c3",
   "metadata": {},
   "outputs": [
    {
     "data": {
      "text/plain": [
       "ride_id          0\n",
       "rideable_type    0\n",
       "started_at       0\n",
       "ended_at         0\n",
       "member_casual    0\n",
       "dtype: int64"
      ]
     },
     "execution_count": 33,
     "metadata": {},
     "output_type": "execute_result"
    }
   ],
   "source": [
    "bike_data.isnull().sum()"
   ]
  },
  {
   "cell_type": "code",
   "execution_count": 32,
   "id": "083f34cd",
   "metadata": {},
   "outputs": [],
   "source": [
    "bike_data.drop(columns=['start_station_id','end_station_name','end_station_id','start_lat','start_lng','end_lat','end_lng'], inplace=True)"
   ]
  },
  {
   "cell_type": "code",
   "execution_count": 34,
   "id": "ce061104",
   "metadata": {},
   "outputs": [
    {
     "data": {
      "text/plain": [
       "ride_id                  object\n",
       "rideable_type            object\n",
       "started_at       datetime64[ns]\n",
       "ended_at         datetime64[ns]\n",
       "member_casual            object\n",
       "dtype: object"
      ]
     },
     "metadata": {},
     "output_type": "display_data"
    }
   ],
   "source": [
    "display(bike_data.dtypes)"
   ]
  },
  {
   "cell_type": "code",
   "execution_count": 45,
   "id": "f293607c",
   "metadata": {},
   "outputs": [],
   "source": [
    "# 1. Filter the Data\n",
    "annual_members_data = bike_data[bike_data['member_casual'] == 'member']\n",
    "casual_riders_data = bike_data[bike_data['member_casual'] == 'casual']"
   ]
  },
  {
   "cell_type": "code",
   "execution_count": 46,
   "id": "a24538ff",
   "metadata": {},
   "outputs": [],
   "source": [
    "# 2. Calculate Metrics\n",
    "annual_members_metrics = {\n",
    "    'Average Trip Duration (minutes)': annual_members_data['trip_duration_minutes'].mean(),\n",
    "    'Total Trips': len(annual_members_data)\n",
    "}"
   ]
  },
  {
   "cell_type": "code",
   "execution_count": 41,
   "id": "a6ff2587",
   "metadata": {},
   "outputs": [],
   "source": [
    "# Calculate trip durations in minutes\n",
    "bike_data['trip_duration_minutes'] = (bike_data['ended_at'] - bike_data['started_at']).dt.total_seconds() / 60"
   ]
  },
  {
   "cell_type": "code",
   "execution_count": 42,
   "id": "243e5b36",
   "metadata": {},
   "outputs": [
    {
     "name": "stdout",
     "output_type": "stream",
     "text": [
      "               started_at            ended_at  trip_duration_minutes\n",
      "0     2020-04-26 17:45:00 2020-04-26 18:12:00                   27.0\n",
      "1     2020-04-17 17:08:00 2020-04-17 17:17:00                    9.0\n",
      "2     2020-04-01 17:54:00 2020-04-01 18:08:00                   14.0\n",
      "3     2020-04-07 12:50:00 2020-04-07 13:02:00                   12.0\n",
      "4     2020-04-18 10:22:00 2020-04-18 11:15:00                   53.0\n",
      "...                   ...                 ...                    ...\n",
      "84771 2020-04-16 16:10:00 2020-04-16 16:23:00                   13.0\n",
      "84772 2020-04-30 17:56:00 2020-04-30 18:15:00                   19.0\n",
      "84773 2020-04-24 19:57:00 2020-04-24 21:50:00                  113.0\n",
      "84774 2020-04-02 17:59:00 2020-04-02 18:42:00                   43.0\n",
      "84775 2020-04-04 01:31:00 2020-04-04 01:37:00                    6.0\n",
      "\n",
      "[84776 rows x 3 columns]\n"
     ]
    }
   ],
   "source": [
    "print(bike_data[['started_at', 'ended_at', 'trip_duration_minutes']])"
   ]
  },
  {
   "cell_type": "code",
   "execution_count": 47,
   "id": "f27fe753",
   "metadata": {},
   "outputs": [],
   "source": [
    "casual_riders_metrics = {\n",
    "    'Average Trip Duration (minutes)': casual_riders_data['trip_duration_minutes'].mean(),\n",
    "    'Total Trips': len(casual_riders_data)\n",
    "}"
   ]
  },
  {
   "cell_type": "code",
   "execution_count": 48,
   "id": "d637d99e",
   "metadata": {},
   "outputs": [],
   "source": [
    "# 3. Combine the Results\n",
    "annual_members_metrics_df = pd.DataFrame.from_dict(annual_members_metrics, orient='index', columns=['member'])\n",
    "casual_riders_metrics_df = pd.DataFrame.from_dict(casual_riders_metrics, orient='index', columns=['casual'])"
   ]
  },
  {
   "cell_type": "code",
   "execution_count": 49,
   "id": "ff4abfdb",
   "metadata": {},
   "outputs": [
    {
     "name": "stdout",
     "output_type": "stream",
     "text": [
      "Metrics for Annual Members:\n",
      "                                       member\n",
      "Average Trip Duration (minutes)     21.467047\n",
      "Total Trips                      61148.000000\n",
      "\n",
      "Metrics for Casual Riders:\n",
      "                                       casual\n",
      "Average Trip Duration (minutes)     73.070637\n",
      "Total Trips                      23628.000000\n"
     ]
    }
   ],
   "source": [
    "# Display the aggregated metrics\n",
    "print(\"Metrics for Annual Members:\")\n",
    "print(annual_members_metrics_df)\n",
    "print(\"\\nMetrics for Casual Riders:\")\n",
    "print(casual_riders_metrics_df)"
   ]
  },
  {
   "cell_type": "code",
   "execution_count": 51,
   "id": "9dbb3b63",
   "metadata": {},
   "outputs": [],
   "source": [
    "# Calculate average trip duration for annual members and casual riders\n",
    "annual_members_avg_duration = bike_data[bike_data['member_casual'] == 'member']['trip_duration_minutes'].mean()\n",
    "casual_riders_avg_duration = bike_data[bike_data['member_casual'] == 'casual']['trip_duration_minutes'].mean()"
   ]
  },
  {
   "cell_type": "code",
   "execution_count": 53,
   "id": "f6030f07",
   "metadata": {},
   "outputs": [
    {
     "data": {
      "image/png": "[encoded data removed]",
      "text/plain": [
       "<Figure size 800x600 with 1 Axes>"
      ]
     },
     "metadata": {},
     "output_type": "display_data"
    },
    {
     "name": "stdout",
     "output_type": "stream",
     "text": [
      "Key Finding:\n",
      "- Annual members have shorter average trip durations compared to casual riders, indicating more frequent but shorter rides.\n"
     ]
    }
   ],
   "source": [
    "# Create a bar plot to compare average trip duration\n",
    "plt.figure(figsize=(8, 6))\n",
    "plt.bar(['member', 'casual'], [annual_members_avg_duration, casual_riders_avg_duration], color=['blue', 'orange'])\n",
    "plt.xlabel('Rider Type')\n",
    "plt.ylabel('Average Trip Duration (minutes)')\n",
    "plt.title('Average Trip Duration Comparison')\n",
    "plt.grid(axis='y')\n",
    "plt.show()\n",
    "# Present key finding\n",
    "print(\"Key Finding:\")\n",
    "print(\"- Annual members have shorter average trip durations compared to casual riders, indicating more frequent but shorter rides.\")"
   ]
  },
  {
   "cell_type": "code",
   "execution_count": 54,
   "id": "05412c48",
   "metadata": {},
   "outputs": [],
   "source": [
    "# Calculate total number of trips for annual members and casual riders\n",
    "annual_members_total_trips = bike_data[bike_data['member_casual'] == 'member'].shape[0]\n",
    "casual_riders_total_trips = bike_data[bike_data['member_casual'] == 'casual'].shape[0]"
   ]
  },
  {
   "cell_type": "code",
   "execution_count": 55,
   "id": "a6526efa",
   "metadata": {},
   "outputs": [
    {
     "data": {
      "image/png": "[encoded data removed]",
      "text/plain": [
       "<Figure size 800x600 with 1 Axes>"
      ]
     },
     "metadata": {},
     "output_type": "display_data"
    },
    {
     "name": "stdout",
     "output_type": "stream",
     "text": [
      "Key Finding:\n",
      "- Annual members exhibit higher frequency in bike usage compared to casual riders, indicating more consistent and regular usage patterns.\n"
     ]
    }
   ],
   "source": [
    "# Create a bar plot to compare total number of trips\n",
    "plt.figure(figsize=(8, 6))\n",
    "plt.bar(['member', 'casual'], [annual_members_total_trips, casual_riders_total_trips], color=['blue', 'orange'])\n",
    "plt.xlabel('Rider Type')\n",
    "plt.ylabel('Total Number of Trips')\n",
    "plt.title('Frequency of Bike Usage Comparison')\n",
    "plt.grid(axis='y')\n",
    "plt.show()\n",
    "# Present key finding\n",
    "print(\"Key Finding:\")\n",
    "print(\"- Annual members exhibit higher frequency in bike usage compared to casual riders, indicating more consistent and regular usage patterns.\")"
   ]
  },
  {
   "cell_type": "code",
   "execution_count": 56,
   "id": "d797b9ad",
   "metadata": {},
   "outputs": [],
   "source": [
    "# Extract hour from 'started_at' column\n",
    "bike_data['hour'] = bike_data['started_at'].dt.hour"
   ]
  },
  {
   "cell_type": "code",
   "execution_count": 58,
   "id": "bb853368",
   "metadata": {},
   "outputs": [],
   "source": [
    "# Group data by hour and member type, and calculate the number of trips\n",
    "usage_by_hour = bike_data.groupby(['hour', 'member_casual']).size().unstack(fill_value=0)"
   ]
  },
  {
   "cell_type": "code",
   "execution_count": 59,
   "id": "b68e20dd",
   "metadata": {},
   "outputs": [
    {
     "data": {
      "text/plain": [
       "<Figure size 1000x600 with 0 Axes>"
      ]
     },
     "metadata": {},
     "output_type": "display_data"
    },
    {
     "data": {
      "image/png": "[encoded data removed]",
      "text/plain": [
       "<Figure size 640x480 with 1 Axes>"
      ]
     },
     "metadata": {},
     "output_type": "display_data"
    },
    {
     "name": "stdout",
     "output_type": "stream",
     "text": [
      "Key Finding:\n",
      "- Annual members show more consistent usage throughout the day, with peaks during commuting hours, while casual riders exhibit more varied usage patterns.\n"
     ]
    }
   ],
   "source": [
    "# Plot usage patterns by time of day\n",
    "plt.figure(figsize=(10, 6))\n",
    "usage_by_hour.plot(kind='line', marker='o')\n",
    "plt.xlabel('Hour of the Day')\n",
    "plt.ylabel('Number of Trips')\n",
    "plt.title('Usage Patterns by Time of Day')\n",
    "plt.xticks(range(24))\n",
    "plt.grid(True)\n",
    "plt.legend(title='Rider Type')\n",
    "plt.show()\n",
    "\n",
    "# Present key finding\n",
    "print(\"Key Finding:\")\n",
    "print(\"- Annual members show more consistent usage throughout the day, with peaks during commuting hours, while casual riders exhibit more varied usage patterns.\")"
   ]
  },
  {
   "cell_type": "code",
   "execution_count": 62,
   "id": "e9c19f4c",
   "metadata": {},
   "outputs": [],
   "source": [
    "# Calculate frequency of each bike type for annual members and casual riders\n",
    "annual_members_bike_types = bike_data[bike_data['member_casual'] == 'member']['rideable_type'].value_counts()\n",
    "casual_riders_bike_types = bike_data[bike_data['member_casual'] == 'casual']['rideable_type'].value_counts()"
   ]
  },
  {
   "cell_type": "code",
   "execution_count": 63,
   "id": "42a66a91",
   "metadata": {},
   "outputs": [
    {
     "data": {
      "text/plain": [
       "<Figure size 1000x600 with 0 Axes>"
      ]
     },
     "metadata": {},
     "output_type": "display_data"
    },
    {
     "data": {
      "image/png": "[encoded data removed]",
      "text/plain": [
       "<Figure size 640x480 with 1 Axes>"
      ]
     },
     "metadata": {},
     "output_type": "display_data"
    },
    {
     "name": "stdout",
     "output_type": "stream",
     "text": [
      "Key Finding:\n",
      "- Annual members predominantly use traditional bikes, whereas casual riders may opt for alternative bike types based on their specific preferences and needs.\n"
     ]
    }
   ],
   "source": [
    "# Combine the results into a DataFrame for easier plotting\n",
    "bike_types_df = pd.DataFrame({'member': annual_members_bike_types, 'casual': casual_riders_bike_types})\n",
    "\n",
    "# Plot preferred bike types\n",
    "plt.figure(figsize=(10, 6))\n",
    "bike_types_df.plot(kind='bar', color=['blue', 'orange'])\n",
    "plt.xlabel('Bike Type')\n",
    "plt.ylabel('Frequency')\n",
    "plt.title('Preferred Bike Types')\n",
    "plt.xticks(rotation=45, ha='right')\n",
    "plt.grid(axis='y')\n",
    "plt.legend(title='Rideable Type')\n",
    "plt.show()\n",
    "\n",
    "# Present key finding\n",
    "print(\"Key Finding:\")\n",
    "print(\"- Annual members predominantly use traditional bikes, whereas casual riders may opt for alternative bike types based on their specific preferences and needs.\")"
   ]
  },
  {
   "cell_type": "code",
   "execution_count": null,
   "id": "05a35734",
   "metadata": {},
   "outputs": [],
   "source": []
  }
 ],
 "metadata": {
  "kernelspec": {
   "display_name": "Python 3 (ipykernel)",
   "language": "python",
   "name": "python3"
  },
  "language_info": {
   "codemirror_mode": {
    "name": "ipython",
    "version": 3
   },
   "file_extension": ".py",
   "mimetype": "text/x-python",
   "name": "python",
   "nbconvert_exporter": "python",
   "pygments_lexer": "ipython3",
   "version": "3.11.5"
  }
 },
 "nbformat": 4,
 "nbformat_minor": 5
}
